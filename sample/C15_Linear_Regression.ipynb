{
 "cells": [
  {
   "cell_type": "code",
   "execution_count": 1,
   "id": "dfaf95e2",
   "metadata": {},
   "outputs": [],
   "source": [
    "import pandas as pd\n",
    "import numpy as np\n",
    "import matplotlib.pyplot as plt\n",
    "import seaborn as sns"
   ]
  },
  {
   "cell_type": "code",
   "execution_count": 2,
   "id": "51d8bdba",
   "metadata": {},
   "outputs": [
    {
     "data": {
      "text/html": [
       "<div>\n",
       "<style scoped>\n",
       "    .dataframe tbody tr th:only-of-type {\n",
       "        vertical-align: middle;\n",
       "    }\n",
       "\n",
       "    .dataframe tbody tr th {\n",
       "        vertical-align: top;\n",
       "    }\n",
       "\n",
       "    .dataframe thead th {\n",
       "        text-align: right;\n",
       "    }\n",
       "</style>\n",
       "<table border=\"1\" class=\"dataframe\">\n",
       "  <thead>\n",
       "    <tr style=\"text-align: right;\">\n",
       "      <th></th>\n",
       "      <th>Lot Area</th>\n",
       "      <th>Overall Qual</th>\n",
       "      <th>Overall Cond</th>\n",
       "      <th>Year Built</th>\n",
       "      <th>Year Remod/Add</th>\n",
       "      <th>Gr Liv Area</th>\n",
       "      <th>Full Bath</th>\n",
       "      <th>Bedroom AbvGr</th>\n",
       "      <th>Fireplaces</th>\n",
       "      <th>Garage Cars</th>\n",
       "      <th>SalePrice</th>\n",
       "    </tr>\n",
       "  </thead>\n",
       "  <tbody>\n",
       "    <tr>\n",
       "      <th>0</th>\n",
       "      <td>31770</td>\n",
       "      <td>6</td>\n",
       "      <td>5</td>\n",
       "      <td>1960</td>\n",
       "      <td>1960</td>\n",
       "      <td>1656</td>\n",
       "      <td>1</td>\n",
       "      <td>3</td>\n",
       "      <td>2</td>\n",
       "      <td>2</td>\n",
       "      <td>215000</td>\n",
       "    </tr>\n",
       "    <tr>\n",
       "      <th>1</th>\n",
       "      <td>11622</td>\n",
       "      <td>5</td>\n",
       "      <td>6</td>\n",
       "      <td>1961</td>\n",
       "      <td>1961</td>\n",
       "      <td>896</td>\n",
       "      <td>1</td>\n",
       "      <td>2</td>\n",
       "      <td>0</td>\n",
       "      <td>1</td>\n",
       "      <td>105000</td>\n",
       "    </tr>\n",
       "    <tr>\n",
       "      <th>2</th>\n",
       "      <td>14267</td>\n",
       "      <td>6</td>\n",
       "      <td>6</td>\n",
       "      <td>1958</td>\n",
       "      <td>1958</td>\n",
       "      <td>1329</td>\n",
       "      <td>1</td>\n",
       "      <td>3</td>\n",
       "      <td>0</td>\n",
       "      <td>1</td>\n",
       "      <td>172000</td>\n",
       "    </tr>\n",
       "    <tr>\n",
       "      <th>3</th>\n",
       "      <td>11160</td>\n",
       "      <td>7</td>\n",
       "      <td>5</td>\n",
       "      <td>1968</td>\n",
       "      <td>1968</td>\n",
       "      <td>2110</td>\n",
       "      <td>2</td>\n",
       "      <td>3</td>\n",
       "      <td>2</td>\n",
       "      <td>2</td>\n",
       "      <td>244000</td>\n",
       "    </tr>\n",
       "    <tr>\n",
       "      <th>4</th>\n",
       "      <td>13830</td>\n",
       "      <td>5</td>\n",
       "      <td>5</td>\n",
       "      <td>1997</td>\n",
       "      <td>1998</td>\n",
       "      <td>1629</td>\n",
       "      <td>2</td>\n",
       "      <td>3</td>\n",
       "      <td>1</td>\n",
       "      <td>2</td>\n",
       "      <td>189900</td>\n",
       "    </tr>\n",
       "    <tr>\n",
       "      <th>5</th>\n",
       "      <td>9978</td>\n",
       "      <td>6</td>\n",
       "      <td>6</td>\n",
       "      <td>1998</td>\n",
       "      <td>1998</td>\n",
       "      <td>1604</td>\n",
       "      <td>2</td>\n",
       "      <td>3</td>\n",
       "      <td>1</td>\n",
       "      <td>2</td>\n",
       "      <td>195500</td>\n",
       "    </tr>\n",
       "    <tr>\n",
       "      <th>6</th>\n",
       "      <td>4920</td>\n",
       "      <td>8</td>\n",
       "      <td>5</td>\n",
       "      <td>2001</td>\n",
       "      <td>2001</td>\n",
       "      <td>1338</td>\n",
       "      <td>2</td>\n",
       "      <td>2</td>\n",
       "      <td>0</td>\n",
       "      <td>2</td>\n",
       "      <td>213500</td>\n",
       "    </tr>\n",
       "    <tr>\n",
       "      <th>7</th>\n",
       "      <td>5005</td>\n",
       "      <td>8</td>\n",
       "      <td>5</td>\n",
       "      <td>1992</td>\n",
       "      <td>1992</td>\n",
       "      <td>1280</td>\n",
       "      <td>2</td>\n",
       "      <td>2</td>\n",
       "      <td>0</td>\n",
       "      <td>2</td>\n",
       "      <td>191500</td>\n",
       "    </tr>\n",
       "    <tr>\n",
       "      <th>8</th>\n",
       "      <td>5389</td>\n",
       "      <td>8</td>\n",
       "      <td>5</td>\n",
       "      <td>1995</td>\n",
       "      <td>1996</td>\n",
       "      <td>1616</td>\n",
       "      <td>2</td>\n",
       "      <td>2</td>\n",
       "      <td>1</td>\n",
       "      <td>2</td>\n",
       "      <td>236500</td>\n",
       "    </tr>\n",
       "    <tr>\n",
       "      <th>9</th>\n",
       "      <td>7500</td>\n",
       "      <td>7</td>\n",
       "      <td>5</td>\n",
       "      <td>1999</td>\n",
       "      <td>1999</td>\n",
       "      <td>1804</td>\n",
       "      <td>2</td>\n",
       "      <td>3</td>\n",
       "      <td>1</td>\n",
       "      <td>2</td>\n",
       "      <td>189000</td>\n",
       "    </tr>\n",
       "  </tbody>\n",
       "</table>\n",
       "</div>"
      ],
      "text/plain": [
       "   Lot Area  Overall Qual  Overall Cond  Year Built  Year Remod/Add  \\\n",
       "0     31770             6             5        1960            1960   \n",
       "1     11622             5             6        1961            1961   \n",
       "2     14267             6             6        1958            1958   \n",
       "3     11160             7             5        1968            1968   \n",
       "4     13830             5             5        1997            1998   \n",
       "5      9978             6             6        1998            1998   \n",
       "6      4920             8             5        2001            2001   \n",
       "7      5005             8             5        1992            1992   \n",
       "8      5389             8             5        1995            1996   \n",
       "9      7500             7             5        1999            1999   \n",
       "\n",
       "   Gr Liv Area  Full Bath  Bedroom AbvGr  Fireplaces  Garage Cars  SalePrice  \n",
       "0         1656          1              3           2            2     215000  \n",
       "1          896          1              2           0            1     105000  \n",
       "2         1329          1              3           0            1     172000  \n",
       "3         2110          2              3           2            2     244000  \n",
       "4         1629          2              3           1            2     189900  \n",
       "5         1604          2              3           1            2     195500  \n",
       "6         1338          2              2           0            2     213500  \n",
       "7         1280          2              2           0            2     191500  \n",
       "8         1616          2              2           1            2     236500  \n",
       "9         1804          2              3           1            2     189000  "
      ]
     },
     "execution_count": 2,
     "metadata": {},
     "output_type": "execute_result"
    }
   ],
   "source": [
    "url = \"https://bit.ly/316tYZT\"\n",
    "\n",
    "df = pd.read_csv(url)\n",
    "\n",
    "df.head(10)"
   ]
  },
  {
   "cell_type": "code",
   "execution_count": 3,
   "id": "1225fe90",
   "metadata": {},
   "outputs": [
    {
     "data": {
      "text/plain": [
       "(2925, 11)"
      ]
     },
     "execution_count": 3,
     "metadata": {},
     "output_type": "execute_result"
    }
   ],
   "source": [
    "df.shape"
   ]
  },
  {
   "cell_type": "code",
   "execution_count": 4,
   "id": "c49f5162",
   "metadata": {},
   "outputs": [
    {
     "name": "stdout",
     "output_type": "stream",
     "text": [
      "<class 'pandas.core.frame.DataFrame'>\n",
      "RangeIndex: 2925 entries, 0 to 2924\n",
      "Data columns (total 11 columns):\n",
      " #   Column          Non-Null Count  Dtype\n",
      "---  ------          --------------  -----\n",
      " 0   Lot Area        2925 non-null   int64\n",
      " 1   Overall Qual    2925 non-null   int64\n",
      " 2   Overall Cond    2925 non-null   int64\n",
      " 3   Year Built      2925 non-null   int64\n",
      " 4   Year Remod/Add  2925 non-null   int64\n",
      " 5   Gr Liv Area     2925 non-null   int64\n",
      " 6   Full Bath       2925 non-null   int64\n",
      " 7   Bedroom AbvGr   2925 non-null   int64\n",
      " 8   Fireplaces      2925 non-null   int64\n",
      " 9   Garage Cars     2925 non-null   int64\n",
      " 10  SalePrice       2925 non-null   int64\n",
      "dtypes: int64(11)\n",
      "memory usage: 251.5 KB\n"
     ]
    }
   ],
   "source": [
    "df.info()"
   ]
  },
  {
   "cell_type": "code",
   "execution_count": 5,
   "id": "2d5ffd45",
   "metadata": {},
   "outputs": [
    {
     "data": {
      "text/html": [
       "<div>\n",
       "<style scoped>\n",
       "    .dataframe tbody tr th:only-of-type {\n",
       "        vertical-align: middle;\n",
       "    }\n",
       "\n",
       "    .dataframe tbody tr th {\n",
       "        vertical-align: top;\n",
       "    }\n",
       "\n",
       "    .dataframe thead th {\n",
       "        text-align: right;\n",
       "    }\n",
       "</style>\n",
       "<table border=\"1\" class=\"dataframe\">\n",
       "  <thead>\n",
       "    <tr style=\"text-align: right;\">\n",
       "      <th></th>\n",
       "      <th>Lot Area</th>\n",
       "      <th>Overall Qual</th>\n",
       "      <th>Overall Cond</th>\n",
       "      <th>Year Built</th>\n",
       "      <th>Year Remod/Add</th>\n",
       "      <th>Gr Liv Area</th>\n",
       "      <th>Full Bath</th>\n",
       "      <th>Bedroom AbvGr</th>\n",
       "      <th>Fireplaces</th>\n",
       "      <th>Garage Cars</th>\n",
       "      <th>SalePrice</th>\n",
       "    </tr>\n",
       "  </thead>\n",
       "  <tbody>\n",
       "    <tr>\n",
       "      <th>count</th>\n",
       "      <td>2925.000000</td>\n",
       "      <td>2925.000000</td>\n",
       "      <td>2925.000000</td>\n",
       "      <td>2925.000000</td>\n",
       "      <td>2925.000000</td>\n",
       "      <td>2925.000000</td>\n",
       "      <td>2925.000000</td>\n",
       "      <td>2925.000000</td>\n",
       "      <td>2925.000000</td>\n",
       "      <td>2925.000000</td>\n",
       "      <td>2925.000000</td>\n",
       "    </tr>\n",
       "    <tr>\n",
       "      <th>mean</th>\n",
       "      <td>10103.583590</td>\n",
       "      <td>6.088205</td>\n",
       "      <td>5.563761</td>\n",
       "      <td>1971.302906</td>\n",
       "      <td>1984.234188</td>\n",
       "      <td>1493.978803</td>\n",
       "      <td>1.564786</td>\n",
       "      <td>2.853675</td>\n",
       "      <td>0.596923</td>\n",
       "      <td>1.764444</td>\n",
       "      <td>180411.574701</td>\n",
       "    </tr>\n",
       "    <tr>\n",
       "      <th>std</th>\n",
       "      <td>7781.999124</td>\n",
       "      <td>1.402953</td>\n",
       "      <td>1.112262</td>\n",
       "      <td>30.242474</td>\n",
       "      <td>20.861774</td>\n",
       "      <td>486.273646</td>\n",
       "      <td>0.551386</td>\n",
       "      <td>0.827737</td>\n",
       "      <td>0.645349</td>\n",
       "      <td>0.760405</td>\n",
       "      <td>78554.857286</td>\n",
       "    </tr>\n",
       "    <tr>\n",
       "      <th>min</th>\n",
       "      <td>1300.000000</td>\n",
       "      <td>1.000000</td>\n",
       "      <td>1.000000</td>\n",
       "      <td>1872.000000</td>\n",
       "      <td>1950.000000</td>\n",
       "      <td>334.000000</td>\n",
       "      <td>0.000000</td>\n",
       "      <td>0.000000</td>\n",
       "      <td>0.000000</td>\n",
       "      <td>0.000000</td>\n",
       "      <td>12789.000000</td>\n",
       "    </tr>\n",
       "    <tr>\n",
       "      <th>25%</th>\n",
       "      <td>7438.000000</td>\n",
       "      <td>5.000000</td>\n",
       "      <td>5.000000</td>\n",
       "      <td>1954.000000</td>\n",
       "      <td>1965.000000</td>\n",
       "      <td>1126.000000</td>\n",
       "      <td>1.000000</td>\n",
       "      <td>2.000000</td>\n",
       "      <td>0.000000</td>\n",
       "      <td>1.000000</td>\n",
       "      <td>129500.000000</td>\n",
       "    </tr>\n",
       "    <tr>\n",
       "      <th>50%</th>\n",
       "      <td>9428.000000</td>\n",
       "      <td>6.000000</td>\n",
       "      <td>5.000000</td>\n",
       "      <td>1973.000000</td>\n",
       "      <td>1993.000000</td>\n",
       "      <td>1441.000000</td>\n",
       "      <td>2.000000</td>\n",
       "      <td>3.000000</td>\n",
       "      <td>1.000000</td>\n",
       "      <td>2.000000</td>\n",
       "      <td>160000.000000</td>\n",
       "    </tr>\n",
       "    <tr>\n",
       "      <th>75%</th>\n",
       "      <td>11515.000000</td>\n",
       "      <td>7.000000</td>\n",
       "      <td>6.000000</td>\n",
       "      <td>2001.000000</td>\n",
       "      <td>2004.000000</td>\n",
       "      <td>1740.000000</td>\n",
       "      <td>2.000000</td>\n",
       "      <td>3.000000</td>\n",
       "      <td>1.000000</td>\n",
       "      <td>2.000000</td>\n",
       "      <td>213500.000000</td>\n",
       "    </tr>\n",
       "    <tr>\n",
       "      <th>max</th>\n",
       "      <td>215245.000000</td>\n",
       "      <td>10.000000</td>\n",
       "      <td>9.000000</td>\n",
       "      <td>2010.000000</td>\n",
       "      <td>2010.000000</td>\n",
       "      <td>3820.000000</td>\n",
       "      <td>4.000000</td>\n",
       "      <td>8.000000</td>\n",
       "      <td>4.000000</td>\n",
       "      <td>5.000000</td>\n",
       "      <td>625000.000000</td>\n",
       "    </tr>\n",
       "  </tbody>\n",
       "</table>\n",
       "</div>"
      ],
      "text/plain": [
       "            Lot Area  Overall Qual  Overall Cond   Year Built  Year Remod/Add  \\\n",
       "count    2925.000000   2925.000000   2925.000000  2925.000000     2925.000000   \n",
       "mean    10103.583590      6.088205      5.563761  1971.302906     1984.234188   \n",
       "std      7781.999124      1.402953      1.112262    30.242474       20.861774   \n",
       "min      1300.000000      1.000000      1.000000  1872.000000     1950.000000   \n",
       "25%      7438.000000      5.000000      5.000000  1954.000000     1965.000000   \n",
       "50%      9428.000000      6.000000      5.000000  1973.000000     1993.000000   \n",
       "75%     11515.000000      7.000000      6.000000  2001.000000     2004.000000   \n",
       "max    215245.000000     10.000000      9.000000  2010.000000     2010.000000   \n",
       "\n",
       "       Gr Liv Area    Full Bath  Bedroom AbvGr   Fireplaces  Garage Cars  \\\n",
       "count  2925.000000  2925.000000    2925.000000  2925.000000  2925.000000   \n",
       "mean   1493.978803     1.564786       2.853675     0.596923     1.764444   \n",
       "std     486.273646     0.551386       0.827737     0.645349     0.760405   \n",
       "min     334.000000     0.000000       0.000000     0.000000     0.000000   \n",
       "25%    1126.000000     1.000000       2.000000     0.000000     1.000000   \n",
       "50%    1441.000000     2.000000       3.000000     1.000000     2.000000   \n",
       "75%    1740.000000     2.000000       3.000000     1.000000     2.000000   \n",
       "max    3820.000000     4.000000       8.000000     4.000000     5.000000   \n",
       "\n",
       "           SalePrice  \n",
       "count    2925.000000  \n",
       "mean   180411.574701  \n",
       "std     78554.857286  \n",
       "min     12789.000000  \n",
       "25%    129500.000000  \n",
       "50%    160000.000000  \n",
       "75%    213500.000000  \n",
       "max    625000.000000  "
      ]
     },
     "execution_count": 5,
     "metadata": {},
     "output_type": "execute_result"
    }
   ],
   "source": [
    "df.describe()"
   ]
  },
  {
   "cell_type": "code",
   "execution_count": 6,
   "id": "d6ee3618",
   "metadata": {},
   "outputs": [
    {
     "data": {
      "text/html": [
       "<div>\n",
       "<style scoped>\n",
       "    .dataframe tbody tr th:only-of-type {\n",
       "        vertical-align: middle;\n",
       "    }\n",
       "\n",
       "    .dataframe tbody tr th {\n",
       "        vertical-align: top;\n",
       "    }\n",
       "\n",
       "    .dataframe thead th {\n",
       "        text-align: right;\n",
       "    }\n",
       "</style>\n",
       "<table border=\"1\" class=\"dataframe\">\n",
       "  <thead>\n",
       "    <tr style=\"text-align: right;\">\n",
       "      <th></th>\n",
       "      <th>Lot Area</th>\n",
       "      <th>Overall Qual</th>\n",
       "      <th>Overall Cond</th>\n",
       "      <th>Year Built</th>\n",
       "      <th>Year Remod/Add</th>\n",
       "      <th>Gr Liv Area</th>\n",
       "      <th>Full Bath</th>\n",
       "      <th>Bedroom AbvGr</th>\n",
       "      <th>Fireplaces</th>\n",
       "      <th>Garage Cars</th>\n",
       "      <th>SalePrice</th>\n",
       "    </tr>\n",
       "  </thead>\n",
       "  <tbody>\n",
       "    <tr>\n",
       "      <th>Lot Area</th>\n",
       "      <td>1.000000</td>\n",
       "      <td>0.083256</td>\n",
       "      <td>-0.032795</td>\n",
       "      <td>0.017049</td>\n",
       "      <td>0.015887</td>\n",
       "      <td>0.258529</td>\n",
       "      <td>0.121394</td>\n",
       "      <td>0.138169</td>\n",
       "      <td>0.247698</td>\n",
       "      <td>0.176047</td>\n",
       "      <td>0.270047</td>\n",
       "    </tr>\n",
       "    <tr>\n",
       "      <th>Overall Qual</th>\n",
       "      <td>0.083256</td>\n",
       "      <td>1.000000</td>\n",
       "      <td>-0.093902</td>\n",
       "      <td>0.596621</td>\n",
       "      <td>0.569498</td>\n",
       "      <td>0.564797</td>\n",
       "      <td>0.518713</td>\n",
       "      <td>0.061772</td>\n",
       "      <td>0.387174</td>\n",
       "      <td>0.598127</td>\n",
       "      <td>0.805236</td>\n",
       "    </tr>\n",
       "    <tr>\n",
       "      <th>Overall Cond</th>\n",
       "      <td>-0.032795</td>\n",
       "      <td>-0.093902</td>\n",
       "      <td>1.000000</td>\n",
       "      <td>-0.368533</td>\n",
       "      <td>0.048356</td>\n",
       "      <td>-0.116169</td>\n",
       "      <td>-0.214322</td>\n",
       "      <td>-0.006207</td>\n",
       "      <td>-0.030648</td>\n",
       "      <td>-0.181384</td>\n",
       "      <td>-0.103296</td>\n",
       "    </tr>\n",
       "    <tr>\n",
       "      <th>Year Built</th>\n",
       "      <td>0.017049</td>\n",
       "      <td>0.596621</td>\n",
       "      <td>-0.368533</td>\n",
       "      <td>1.000000</td>\n",
       "      <td>0.611444</td>\n",
       "      <td>0.239305</td>\n",
       "      <td>0.468485</td>\n",
       "      <td>-0.055650</td>\n",
       "      <td>0.167803</td>\n",
       "      <td>0.537146</td>\n",
       "      <td>0.565110</td>\n",
       "    </tr>\n",
       "    <tr>\n",
       "      <th>Year Remod/Add</th>\n",
       "      <td>0.015887</td>\n",
       "      <td>0.569498</td>\n",
       "      <td>0.048356</td>\n",
       "      <td>0.611444</td>\n",
       "      <td>1.000000</td>\n",
       "      <td>0.318860</td>\n",
       "      <td>0.456708</td>\n",
       "      <td>-0.021801</td>\n",
       "      <td>0.130699</td>\n",
       "      <td>0.423511</td>\n",
       "      <td>0.540290</td>\n",
       "    </tr>\n",
       "    <tr>\n",
       "      <th>Gr Liv Area</th>\n",
       "      <td>0.258529</td>\n",
       "      <td>0.564797</td>\n",
       "      <td>-0.116169</td>\n",
       "      <td>0.239305</td>\n",
       "      <td>0.318860</td>\n",
       "      <td>1.000000</td>\n",
       "      <td>0.637511</td>\n",
       "      <td>0.534222</td>\n",
       "      <td>0.449018</td>\n",
       "      <td>0.493222</td>\n",
       "      <td>0.719463</td>\n",
       "    </tr>\n",
       "    <tr>\n",
       "      <th>Full Bath</th>\n",
       "      <td>0.121394</td>\n",
       "      <td>0.518713</td>\n",
       "      <td>-0.214322</td>\n",
       "      <td>0.468485</td>\n",
       "      <td>0.456708</td>\n",
       "      <td>0.637511</td>\n",
       "      <td>1.000000</td>\n",
       "      <td>0.358727</td>\n",
       "      <td>0.225748</td>\n",
       "      <td>0.474841</td>\n",
       "      <td>0.544486</td>\n",
       "    </tr>\n",
       "    <tr>\n",
       "      <th>Bedroom AbvGr</th>\n",
       "      <td>0.138169</td>\n",
       "      <td>0.061772</td>\n",
       "      <td>-0.006207</td>\n",
       "      <td>-0.055650</td>\n",
       "      <td>-0.021801</td>\n",
       "      <td>0.534222</td>\n",
       "      <td>0.358727</td>\n",
       "      <td>1.000000</td>\n",
       "      <td>0.075856</td>\n",
       "      <td>0.090296</td>\n",
       "      <td>0.139766</td>\n",
       "    </tr>\n",
       "    <tr>\n",
       "      <th>Fireplaces</th>\n",
       "      <td>0.247698</td>\n",
       "      <td>0.387174</td>\n",
       "      <td>-0.030648</td>\n",
       "      <td>0.167803</td>\n",
       "      <td>0.130699</td>\n",
       "      <td>0.449018</td>\n",
       "      <td>0.225748</td>\n",
       "      <td>0.075856</td>\n",
       "      <td>1.000000</td>\n",
       "      <td>0.319385</td>\n",
       "      <td>0.474878</td>\n",
       "    </tr>\n",
       "    <tr>\n",
       "      <th>Garage Cars</th>\n",
       "      <td>0.176047</td>\n",
       "      <td>0.598127</td>\n",
       "      <td>-0.181384</td>\n",
       "      <td>0.537146</td>\n",
       "      <td>0.423511</td>\n",
       "      <td>0.493222</td>\n",
       "      <td>0.474841</td>\n",
       "      <td>0.090296</td>\n",
       "      <td>0.319385</td>\n",
       "      <td>1.000000</td>\n",
       "      <td>0.652227</td>\n",
       "    </tr>\n",
       "    <tr>\n",
       "      <th>SalePrice</th>\n",
       "      <td>0.270047</td>\n",
       "      <td>0.805236</td>\n",
       "      <td>-0.103296</td>\n",
       "      <td>0.565110</td>\n",
       "      <td>0.540290</td>\n",
       "      <td>0.719463</td>\n",
       "      <td>0.544486</td>\n",
       "      <td>0.139766</td>\n",
       "      <td>0.474878</td>\n",
       "      <td>0.652227</td>\n",
       "      <td>1.000000</td>\n",
       "    </tr>\n",
       "  </tbody>\n",
       "</table>\n",
       "</div>"
      ],
      "text/plain": [
       "                Lot Area  Overall Qual  Overall Cond  Year Built  \\\n",
       "Lot Area        1.000000      0.083256     -0.032795    0.017049   \n",
       "Overall Qual    0.083256      1.000000     -0.093902    0.596621   \n",
       "Overall Cond   -0.032795     -0.093902      1.000000   -0.368533   \n",
       "Year Built      0.017049      0.596621     -0.368533    1.000000   \n",
       "Year Remod/Add  0.015887      0.569498      0.048356    0.611444   \n",
       "Gr Liv Area     0.258529      0.564797     -0.116169    0.239305   \n",
       "Full Bath       0.121394      0.518713     -0.214322    0.468485   \n",
       "Bedroom AbvGr   0.138169      0.061772     -0.006207   -0.055650   \n",
       "Fireplaces      0.247698      0.387174     -0.030648    0.167803   \n",
       "Garage Cars     0.176047      0.598127     -0.181384    0.537146   \n",
       "SalePrice       0.270047      0.805236     -0.103296    0.565110   \n",
       "\n",
       "                Year Remod/Add  Gr Liv Area  Full Bath  Bedroom AbvGr  \\\n",
       "Lot Area              0.015887     0.258529   0.121394       0.138169   \n",
       "Overall Qual          0.569498     0.564797   0.518713       0.061772   \n",
       "Overall Cond          0.048356    -0.116169  -0.214322      -0.006207   \n",
       "Year Built            0.611444     0.239305   0.468485      -0.055650   \n",
       "Year Remod/Add        1.000000     0.318860   0.456708      -0.021801   \n",
       "Gr Liv Area           0.318860     1.000000   0.637511       0.534222   \n",
       "Full Bath             0.456708     0.637511   1.000000       0.358727   \n",
       "Bedroom AbvGr        -0.021801     0.534222   0.358727       1.000000   \n",
       "Fireplaces            0.130699     0.449018   0.225748       0.075856   \n",
       "Garage Cars           0.423511     0.493222   0.474841       0.090296   \n",
       "SalePrice             0.540290     0.719463   0.544486       0.139766   \n",
       "\n",
       "                Fireplaces  Garage Cars  SalePrice  \n",
       "Lot Area          0.247698     0.176047   0.270047  \n",
       "Overall Qual      0.387174     0.598127   0.805236  \n",
       "Overall Cond     -0.030648    -0.181384  -0.103296  \n",
       "Year Built        0.167803     0.537146   0.565110  \n",
       "Year Remod/Add    0.130699     0.423511   0.540290  \n",
       "Gr Liv Area       0.449018     0.493222   0.719463  \n",
       "Full Bath         0.225748     0.474841   0.544486  \n",
       "Bedroom AbvGr     0.075856     0.090296   0.139766  \n",
       "Fireplaces        1.000000     0.319385   0.474878  \n",
       "Garage Cars       0.319385     1.000000   0.652227  \n",
       "SalePrice         0.474878     0.652227   1.000000  "
      ]
     },
     "execution_count": 6,
     "metadata": {},
     "output_type": "execute_result"
    }
   ],
   "source": [
    "# Correlation\n",
    "\n",
    "df.corr()"
   ]
  },
  {
   "cell_type": "code",
   "execution_count": 7,
   "id": "5b8287cb",
   "metadata": {},
   "outputs": [
    {
     "data": {
      "text/plain": [
       "<AxesSubplot:>"
      ]
     },
     "execution_count": 7,
     "metadata": {},
     "output_type": "execute_result"
    },
    {
     "data": {
      "image/png": "[encoded data removed]",
      "text/plain": [
       "<Figure size 720x576 with 2 Axes>"
      ]
     },
     "metadata": {
      "needs_background": "light"
     },
     "output_type": "display_data"
    }
   ],
   "source": [
    "plt.figure(figsize = (10, 8))\n",
    "\n",
    "sns.heatmap(df.corr(), annot = True)"
   ]
  },
  {
   "cell_type": "code",
   "execution_count": 8,
   "id": "b038453c",
   "metadata": {},
   "outputs": [
    {
     "data": {
      "text/plain": [
       "Lot Area        Lot Area          1.000000\n",
       "Overall Qual    SalePrice         0.805236\n",
       "SalePrice       Gr Liv Area       0.719463\n",
       "                Garage Cars       0.652227\n",
       "Gr Liv Area     Full Bath         0.637511\n",
       "Year Remod/Add  Year Built        0.611444\n",
       "Overall Qual    Garage Cars       0.598127\n",
       "                Year Built        0.596621\n",
       "Year Remod/Add  Overall Qual      0.569498\n",
       "SalePrice       Year Built        0.565110\n",
       "Gr Liv Area     Overall Qual      0.564797\n",
       "SalePrice       Full Bath         0.544486\n",
       "                Year Remod/Add    0.540290\n",
       "Garage Cars     Year Built        0.537146\n",
       "Bedroom AbvGr   Gr Liv Area       0.534222\n",
       "Overall Qual    Full Bath         0.518713\n",
       "Gr Liv Area     Garage Cars       0.493222\n",
       "SalePrice       Fireplaces        0.474878\n",
       "Garage Cars     Full Bath         0.474841\n",
       "Full Bath       Year Built        0.468485\n",
       "Year Remod/Add  Full Bath         0.456708\n",
       "Fireplaces      Gr Liv Area       0.449018\n",
       "Year Remod/Add  Garage Cars       0.423511\n",
       "Fireplaces      Overall Qual      0.387174\n",
       "Full Bath       Bedroom AbvGr     0.358727\n",
       "Fireplaces      Garage Cars       0.319385\n",
       "Year Remod/Add  Gr Liv Area       0.318860\n",
       "SalePrice       Lot Area          0.270047\n",
       "Gr Liv Area     Lot Area          0.258529\n",
       "Lot Area        Fireplaces        0.247698\n",
       "Year Built      Gr Liv Area       0.239305\n",
       "Fireplaces      Full Bath         0.225748\n",
       "Garage Cars     Lot Area          0.176047\n",
       "Year Built      Fireplaces        0.167803\n",
       "Bedroom AbvGr   SalePrice         0.139766\n",
       "                Lot Area          0.138169\n",
       "Year Remod/Add  Fireplaces        0.130699\n",
       "Full Bath       Lot Area          0.121394\n",
       "Garage Cars     Bedroom AbvGr     0.090296\n",
       "Overall Qual    Lot Area          0.083256\n",
       "Bedroom AbvGr   Fireplaces        0.075856\n",
       "Overall Qual    Bedroom AbvGr     0.061772\n",
       "Overall Cond    Year Remod/Add    0.048356\n",
       "Lot Area        Year Built        0.017049\n",
       "                Year Remod/Add    0.015887\n",
       "Overall Cond    Bedroom AbvGr    -0.006207\n",
       "Bedroom AbvGr   Year Remod/Add   -0.021801\n",
       "Overall Cond    Fireplaces       -0.030648\n",
       "                Lot Area         -0.032795\n",
       "Year Built      Bedroom AbvGr    -0.055650\n",
       "Overall Qual    Overall Cond     -0.093902\n",
       "SalePrice       Overall Cond     -0.103296\n",
       "Gr Liv Area     Overall Cond     -0.116169\n",
       "Overall Cond    Garage Cars      -0.181384\n",
       "                Full Bath        -0.214322\n",
       "                Year Built       -0.368533\n",
       "dtype: float64"
      ]
     },
     "execution_count": 8,
     "metadata": {},
     "output_type": "execute_result"
    }
   ],
   "source": [
    "df.corr().unstack().sort_values(ascending = False).drop_duplicates()"
   ]
  },
  {
   "cell_type": "code",
   "execution_count": 9,
   "id": "c9d3d953",
   "metadata": {},
   "outputs": [
    {
     "data": {
      "text/plain": [
       "SalePrice         1.000000\n",
       "Overall Qual      0.805236\n",
       "Gr Liv Area       0.719463\n",
       "Garage Cars       0.652227\n",
       "Year Built        0.565110\n",
       "Full Bath         0.544486\n",
       "Year Remod/Add    0.540290\n",
       "Fireplaces        0.474878\n",
       "Lot Area          0.270047\n",
       "Bedroom AbvGr     0.139766\n",
       "Overall Cond     -0.103296\n",
       "dtype: float64"
      ]
     },
     "execution_count": 9,
     "metadata": {},
     "output_type": "execute_result"
    }
   ],
   "source": [
    "df.corr().unstack().sort_values(ascending = False)['SalePrice']"
   ]
  },
  {
   "cell_type": "code",
   "execution_count": 10,
   "id": "c5ee3f56",
   "metadata": {},
   "outputs": [],
   "source": [
    "# Simple linear regression\n",
    "\n",
    "X = df[['Overall Qual']]  # Independent Variable\n",
    "\n",
    "y = df[['SalePrice']]"
   ]
  },
  {
   "cell_type": "code",
   "execution_count": 14,
   "id": "b4786000",
   "metadata": {},
   "outputs": [],
   "source": [
    "# Split the data in the training and testing set\n",
    "\n",
    "from sklearn.model_selection import train_test_split"
   ]
  },
  {
   "cell_type": "code",
   "execution_count": 15,
   "id": "8517450c",
   "metadata": {},
   "outputs": [],
   "source": [
    "X_train, X_test, y_train, y_test = train_test_split(X, y, test_size = 0.2)"
   ]
  },
  {
   "cell_type": "code",
   "execution_count": null,
   "id": "fa6292fe",
   "metadata": {},
   "outputs": [],
   "source": [
    "# Size of house            Price\n",
    "# 20                       50 m\n",
    "# 30                       60 m\n",
    "# 40                       70 m\n",
    "\n",
    "\n",
    "# 50                       80 m\n",
    "\n",
    "# 50 --- test data point   75 m"
   ]
  },
  {
   "cell_type": "code",
   "execution_count": 16,
   "id": "9adac293",
   "metadata": {},
   "outputs": [],
   "source": [
    "# Train the machine\n",
    "\n",
    "from sklearn.linear_model import LinearRegression"
   ]
  },
  {
   "cell_type": "code",
   "execution_count": 17,
   "id": "b000e2e2",
   "metadata": {},
   "outputs": [],
   "source": [
    "slr = LinearRegression()"
   ]
  },
  {
   "cell_type": "code",
   "execution_count": 18,
   "id": "7d4fea5e",
   "metadata": {},
   "outputs": [
    {
     "data": {
      "text/plain": [
       "LinearRegression()"
      ]
     },
     "execution_count": 18,
     "metadata": {},
     "output_type": "execute_result"
    }
   ],
   "source": [
    "slr.fit(X_train, y_train)"
   ]
  },
  {
   "cell_type": "code",
   "execution_count": 19,
   "id": "c9d4ed3b",
   "metadata": {},
   "outputs": [],
   "source": [
    "# Predictions\n",
    "\n",
    "y_pred = slr.predict(X_test)"
   ]
  },
  {
   "cell_type": "code",
   "execution_count": 21,
   "id": "43989715",
   "metadata": {},
   "outputs": [],
   "source": [
    "from sklearn import metrics"
   ]
  },
  {
   "cell_type": "code",
   "execution_count": 24,
   "id": "13660b84",
   "metadata": {},
   "outputs": [
    {
     "name": "stdout",
     "output_type": "stream",
     "text": [
      "Accuracy of my model is:  63 %\n"
     ]
    }
   ],
   "source": [
    "acc_slr = metrics.r2_score(y_test, y_pred)\n",
    "\n",
    "print(\"Accuracy of my model is: \", round(acc_slr*100), \"%\")"
   ]
  },
  {
   "cell_type": "code",
   "execution_count": 25,
   "id": "2404ac50",
   "metadata": {},
   "outputs": [
    {
     "data": {
      "text/plain": [
       "array([-92148.69584916])"
      ]
     },
     "execution_count": 25,
     "metadata": {},
     "output_type": "execute_result"
    }
   ],
   "source": [
    "slr.intercept_"
   ]
  },
  {
   "cell_type": "code",
   "execution_count": 26,
   "id": "fe7e6725",
   "metadata": {},
   "outputs": [
    {
     "data": {
      "text/plain": [
       "array([[44674.84013256]])"
      ]
     },
     "execution_count": 26,
     "metadata": {},
     "output_type": "execute_result"
    }
   ],
   "source": [
    "slr.coef_"
   ]
  },
  {
   "cell_type": "code",
   "execution_count": 27,
   "id": "02f7a42c",
   "metadata": {},
   "outputs": [
    {
     "name": "stdout",
     "output_type": "stream",
     "text": [
      "2472745142.5447803\n"
     ]
    }
   ],
   "source": [
    "error = metrics.mean_squared_error(y_test, y_pred)\n",
    "\n",
    "print(error)"
   ]
  },
  {
   "cell_type": "code",
   "execution_count": 28,
   "id": "e2019f4e",
   "metadata": {},
   "outputs": [
    {
     "name": "stdout",
     "output_type": "stream",
     "text": [
      "49726.704521260806\n"
     ]
    }
   ],
   "source": [
    "import math\n",
    "\n",
    "print(math.sqrt(error))"
   ]
  },
  {
   "cell_type": "code",
   "execution_count": 30,
   "id": "4599c258",
   "metadata": {},
   "outputs": [],
   "source": [
    "# Multiple Linear Regression\n",
    "\n",
    "X = df.drop('SalePrice', axis = 1)\n",
    "\n",
    "y = df[['SalePrice']]"
   ]
  },
  {
   "cell_type": "code",
   "execution_count": 31,
   "id": "100d2465",
   "metadata": {},
   "outputs": [],
   "source": [
    "# split the data\n",
    "\n",
    "X_train, X_test, y_train, y_test = train_test_split(X, y, test_size = 0.20)"
   ]
  },
  {
   "cell_type": "code",
   "execution_count": 32,
   "id": "4159dabe",
   "metadata": {},
   "outputs": [],
   "source": [
    "mlr = LinearRegression()"
   ]
  },
  {
   "cell_type": "code",
   "execution_count": 33,
   "id": "d7d51eef",
   "metadata": {},
   "outputs": [
    {
     "data": {
      "text/plain": [
       "LinearRegression()"
      ]
     },
     "execution_count": 33,
     "metadata": {},
     "output_type": "execute_result"
    }
   ],
   "source": [
    "mlr.fit(X_train, y_train)"
   ]
  },
  {
   "cell_type": "code",
   "execution_count": 34,
   "id": "51298689",
   "metadata": {},
   "outputs": [],
   "source": [
    "pred = mlr.predict(X_test)"
   ]
  },
  {
   "cell_type": "code",
   "execution_count": 35,
   "id": "b5ecbaa5",
   "metadata": {},
   "outputs": [
    {
     "name": "stdout",
     "output_type": "stream",
     "text": [
      "0.8436777161051624\n"
     ]
    }
   ],
   "source": [
    "accuracy = metrics.r2_score(y_test, pred)\n",
    "\n",
    "print(accuracy)"
   ]
  },
  {
   "cell_type": "code",
   "execution_count": null,
   "id": "01e5a47b",
   "metadata": {},
   "outputs": [],
   "source": []
  }
 ],
 "metadata": {
  "kernelspec": {
   "display_name": "Python 3",
   "language": "python",
   "name": "python3"
  },
  "language_info": {
   "codemirror_mode": {
    "name": "ipython",
    "version": 3
   },
   "file_extension": ".py",
   "mimetype": "text/x-python",
   "name": "python",
   "nbconvert_exporter": "python",
   "pygments_lexer": "ipython3",
   "version": "3.8.8"
  }
 },
 "nbformat": 4,
 "nbformat_minor": 5
}
